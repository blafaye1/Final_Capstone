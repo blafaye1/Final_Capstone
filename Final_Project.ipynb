{
 "cells": [
  {
   "cell_type": "markdown",
   "metadata": {},
   "source": [
    "# Project Functionality"
   ]
  },
  {
   "cell_type": "code",
   "execution_count": 61,
   "metadata": {},
   "outputs": [],
   "source": [
    "import pickle\n",
    "from datetime import datetime, timedelta\n",
    "import matplotlib.pyplot as plt\n",
    "from ipywidgets import interact"
   ]
  },
  {
   "cell_type": "code",
   "execution_count": 42,
   "metadata": {},
   "outputs": [],
   "source": [
    "supported_genres = {}\n",
    "\n",
    "supported_genres['pop'] = pickle.load(open('model_cache/pop_model.p', 'rb'))\n",
    "supported_genres['country'] = pickle.load(open('model_cache/country_model.p', 'rb'))\n",
    "supported_genres['other'] = pickle.load(open('model_cache/other_model.p', 'rb'))"
   ]
  },
  {
   "cell_type": "code",
   "execution_count": 59,
   "metadata": {},
   "outputs": [
    {
     "name": "stdout",
     "output_type": "stream",
     "text": [
      "What genre is your music? other\n"
     ]
    }
   ],
   "source": [
    "genre = input(\"What genre is your music? \")\n",
    "while genre not in supported_genres:\n",
    "    print(f\"That genre is not currently supported. Please choose from {', '.join(supported_genres[:-1])}, or {supported_genres[-1]}.\")\n",
    "    genre = input(\"What genre is your music? \")"
   ]
  },
  {
   "cell_type": "code",
   "execution_count": 56,
   "metadata": {},
   "outputs": [
    {
     "name": "stdout",
     "output_type": "stream",
     "text": [
      "Please enter the date that your song was released (MM-DD-YYYY): 05-03-2020\n"
     ]
    }
   ],
   "source": [
    "date_string = input(\"Please enter the date that your song was released (MM-DD-YYYY): \")\n",
    "release_date = datetime.strptime(date_string, '%m-%d-%Y')\n",
    "# TODO: catch input errors"
   ]
  },
  {
   "cell_type": "code",
   "execution_count": 51,
   "metadata": {},
   "outputs": [],
   "source": [
    "def predictions(release_date, num_tweets=10, avg_char=40, t_rt_ratio=0.5, avg_freq=2):\n",
    "\n",
    "    time_since_release = (datetime.now() - release_date).days // 7\n",
    "    total_chars = num_tweets * avg_char\n",
    "    num_t_plus_rt = (num_tweets / t_rt_ratio)\n",
    "    num_rts = num_t_plus_rt - num_tweets\n",
    "\n",
    "    X = [[time_since_release, num_tweets, total_chars, avg_char, num_rts, t_rt_ratio, avg_freq]]\n",
    "    return(supported_genres[genre].predict(X)[0])"
   ]
  },
  {
   "cell_type": "code",
   "execution_count": 75,
   "metadata": {},
   "outputs": [],
   "source": [
    "def make_plot(char = 40, ratio=0.5, freq = 2):\n",
    "    x = []\n",
    "    y = []\n",
    "    for i in range(1, 11):\n",
    "        num_tweets = i * 10\n",
    "        x.append(num_tweets)\n",
    "        y.append(predictions(release_date, num_tweets = num_tweets, avg_char = char, t_rt_ratio = ratio, avg_freq = freq))\n",
    "    plt.scatter(x, y)\n",
    "    \n",
    "# TODO: Improve plot (use bokeh)"
   ]
  },
  {
   "cell_type": "code",
   "execution_count": 76,
   "metadata": {},
   "outputs": [
    {
     "data": {
      "application/vnd.jupyter.widget-view+json": {
       "model_id": "9b15fa0898ad4a639ed0326ac3134f0b",
       "version_major": 2,
       "version_minor": 0
      },
      "text/plain": [
       "interactive(children=(IntSlider(value=40, description='char', max=80, min=20, step=10), FloatSlider(value=0.5,…"
      ]
     },
     "metadata": {},
     "output_type": "display_data"
    },
    {
     "data": {
      "text/plain": [
       "<function __main__.make_plot(char=40, ratio=0.5, freq=2)>"
      ]
     },
     "execution_count": 76,
     "metadata": {},
     "output_type": "execute_result"
    }
   ],
   "source": [
    "interact(make_plot, ratio = (0.1, 0.9), char = (20, 80, 10), freq = (0.5, 3, 0.5))\n",
    "# TODO: Calculate global maximum across all parameters"
   ]
  },
  {
   "cell_type": "markdown",
   "metadata": {},
   "source": [
    " "
   ]
  },
  {
   "cell_type": "markdown",
   "metadata": {},
   "source": [
    "# Project Description"
   ]
  },
  {
   "cell_type": "markdown",
   "metadata": {},
   "source": [
    "Data Ingestion Sources:\n",
    "- Rolling Stone Trending 25 Charts (built my own web scraper)\n",
    "- Spotify API\n",
    "- Twitter API"
   ]
  },
  {
   "cell_type": "markdown",
   "metadata": {},
   "source": [
    "### Model Description"
   ]
  },
  {
   "cell_type": "markdown",
   "metadata": {},
   "source": [
    "Features (for a single week data point):\n",
    "- Number of original tweets by the user\n",
    "- Number of retweets by the user\n",
    "- Ratio of original tweets to retweets (tweets / (tweets + retweets))\n",
    "- Average number of characters per original tweet\n",
    "- Number of weeks since release of song\n",
    "- Average frequency of original tweets by the user in units of tweets per day"
   ]
  },
  {
   "cell_type": "code",
   "execution_count": 77,
   "metadata": {},
   "outputs": [],
   "source": [
    "# TODO: Complete project description"
   ]
  },
  {
   "cell_type": "markdown",
   "metadata": {},
   "source": [
    "Genre selection: A word cloud representing the frequency of Spotify-provided genres across all artists in my dataset\n",
    "\n",
    "![title](wordcloud.png)"
   ]
  },
  {
   "cell_type": "code",
   "execution_count": null,
   "metadata": {},
   "outputs": [],
   "source": [
    "# TODO: Improve image (remove duplicates)"
   ]
  }
 ],
 "metadata": {
  "kernelspec": {
   "display_name": "Python 3",
   "language": "python",
   "name": "python3"
  },
  "language_info": {
   "codemirror_mode": {
    "name": "ipython",
    "version": 3
   },
   "file_extension": ".py",
   "mimetype": "text/x-python",
   "name": "python",
   "nbconvert_exporter": "python",
   "pygments_lexer": "ipython3",
   "version": "3.7.7"
  }
 },
 "nbformat": 4,
 "nbformat_minor": 4
}
